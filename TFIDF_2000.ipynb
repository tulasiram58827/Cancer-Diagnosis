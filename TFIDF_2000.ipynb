{
  "nbformat": 4,
  "nbformat_minor": 0,
  "metadata": {
    "kernelspec": {
      "display_name": "Python 3",
      "language": "python",
      "name": "python3"
    },
    "language_info": {
      "codemirror_mode": {
        "name": "ipython",
        "version": 3
      },
      "file_extension": ".py",
      "mimetype": "text/x-python",
      "name": "python",
      "nbconvert_exporter": "python",
      "pygments_lexer": "ipython3",
      "version": "3.6.5"
    },
    "colab": {
      "name": "tfidf_4grams_2000words.ipynb",
      "provenance": []
    }
  },
  "cells": [
    {
      "cell_type": "code",
      "metadata": {
        "id": "dlfJ31TAux6A",
        "colab_type": "code",
        "colab": {},
        "outputId": "ff2f641e-0b8c-49c4-ad67-a80dacbb94de"
      },
      "source": [
        "import pandas as pd\n",
        "import matplotlib.pyplot as plt\n",
        "import re\n",
        "import time\n",
        "import warnings\n",
        "import numpy as np\n",
        "from nltk.corpus import stopwords\n",
        "from sklearn.decomposition import TruncatedSVD\n",
        "from sklearn.preprocessing import normalize\n",
        "from sklearn.feature_extraction.text import CountVectorizer\n",
        "from sklearn.manifold import TSNE\n",
        "import seaborn as sns\n",
        "from sklearn.neighbors import KNeighborsClassifier\n",
        "from sklearn.metrics import confusion_matrix\n",
        "from sklearn.metrics.classification import accuracy_score, log_loss\n",
        "from sklearn.feature_extraction.text import TfidfVectorizer\n",
        "from sklearn.linear_model import SGDClassifier\n",
        "from imblearn.over_sampling import SMOTE\n",
        "from collections import Counter\n",
        "from scipy.sparse import hstack\n",
        "from sklearn.multiclass import OneVsRestClassifier\n",
        "from sklearn.svm import SVC\n",
        "from sklearn.cross_validation import StratifiedKFold \n",
        "from collections import Counter, defaultdict\n",
        "from sklearn.calibration import CalibratedClassifierCV\n",
        "from sklearn.naive_bayes import MultinomialNB\n",
        "from sklearn.naive_bayes import GaussianNB\n",
        "from sklearn.model_selection import train_test_split\n",
        "from sklearn.model_selection import GridSearchCV\n",
        "import math\n",
        "from sklearn.metrics import normalized_mutual_info_score\n",
        "from sklearn.ensemble import RandomForestClassifier\n",
        "warnings.filterwarnings(\"ignore\")\n",
        "\n",
        "from mlxtend.classifier import StackingClassifier\n",
        "from tqdm import tqdm\n",
        "\n",
        "from sklearn import model_selection\n",
        "from sklearn.linear_model import LogisticRegression\n"
      ],
      "execution_count": 0,
      "outputs": [
        {
          "output_type": "stream",
          "text": [
            "C:\\Users\\TULASI RAM\\Anaconda3\\lib\\site-packages\\sklearn\\cross_validation.py:41: DeprecationWarning: This module was deprecated in version 0.18 in favor of the model_selection module into which all the refactored classes and functions are moved. Also note that the interface of the new CV iterators are different from that of this module. This module will be removed in 0.20.\n",
            "  \"This module will be removed in 0.20.\", DeprecationWarning)\n"
          ],
          "name": "stderr"
        }
      ]
    },
    {
      "cell_type": "code",
      "metadata": {
        "id": "cF6gGXDuux6I",
        "colab_type": "code",
        "colab": {}
      },
      "source": [
        "#after merging and preprocessed data\n",
        "result = pd.read_csv('final_data',index_col=0)"
      ],
      "execution_count": 0,
      "outputs": []
    },
    {
      "cell_type": "code",
      "metadata": {
        "id": "PCJZ4IOWux6M",
        "colab_type": "code",
        "colab": {}
      },
      "source": [
        "y_true = result['Class'].values\n",
        "result.Gene      = result.Gene.str.replace('\\s+', '_')\n",
        "result.Variation = result.Variation.str.replace('\\s+', '_')\n",
        "\n",
        "# split the data into test and train by maintaining same distribution of output varaible 'y_true' [stratify=y_true]\n",
        "X_train, test_df, y_train, y_test = train_test_split(result, y_true, stratify=y_true, test_size=0.2)\n",
        "# split the train data into train and cross validation by maintaining same distribution of output varaible 'y_train' [stratify=y_train]\n",
        "train_df, cv_df, y_train, y_cv = train_test_split(X_train, y_train, stratify=y_train, test_size=0.2)"
      ],
      "execution_count": 0,
      "outputs": []
    },
    {
      "cell_type": "code",
      "metadata": {
        "id": "f7vyJGaEux6T",
        "colab_type": "code",
        "colab": {},
        "outputId": "fbc893b8-1334-4649-c9f9-b99806eb80a5"
      },
      "source": [
        "text_vectorizer = TfidfVectorizer(ngram_range=(1,4),max_features=2000)\n",
        "train_text_feature_onehotCoding = text_vectorizer.fit_transform(train_df['TEXT'])\n",
        "# getting all the feature names (words)\n",
        "train_text_features= text_vectorizer.get_feature_names()\n",
        "\n",
        "# train_text_feature_onehotCoding.sum(axis=0).A1 will sum every row and returns (1*number of features) vector\n",
        "train_text_fea_counts = train_text_feature_onehotCoding.sum(axis=0).A1\n",
        "\n",
        "# zip(list(text_features),text_fea_counts) will zip a word with its number of times it occured\n",
        "text_fea_dict = dict(zip(list(train_text_features),train_text_fea_counts))\n",
        "\n",
        "\n",
        "print(\"Total number of unique words in train data :\", len(train_text_features))"
      ],
      "execution_count": 0,
      "outputs": [
        {
          "output_type": "stream",
          "text": [
            "Total number of unique words in train data : 2000\n"
          ],
          "name": "stdout"
        }
      ]
    },
    {
      "cell_type": "code",
      "metadata": {
        "id": "ntdPEsx5ux6Y",
        "colab_type": "code",
        "colab": {},
        "outputId": "d00219ec-3180-42fa-f132-0865c2a846db"
      },
      "source": [
        "# normalizing every feature\n",
        "train_text_feature_onehotCoding = normalize(train_text_feature_onehotCoding, axis=0)\n",
        "\n",
        "\n",
        "\n",
        "# we use the same vectorizer that was trained on train data\n",
        "test_text_feature_onehotCoding = text_vectorizer.transform(test_df['TEXT'])\n",
        "\n",
        "test_text_features= text_vectorizer.get_feature_names()\n",
        "\n",
        "# train_text_feature_onehotCoding.sum(axis=0).A1 will sum every row and returns (1*number of features) vector\n",
        "test_text_fea_counts = test_text_feature_onehotCoding.sum(axis=0).A1\n",
        "\n",
        "# zip(list(text_features),text_fea_counts) will zip a word with its number of times it occured\n",
        "text_fea_dict = dict(zip(list(test_text_features),test_text_fea_counts))\n",
        "\n",
        "\n",
        "print(\"Total number of unique words in test data :\", len(test_text_features))\n",
        "# don't forget to normalize every feature\n",
        "test_text_feature_onehotCoding = normalize(test_text_feature_onehotCoding, axis=0)\n",
        "\n",
        "# we use the same vectorizer that was trained on train data\n",
        "cv_text_feature_onehotCoding = text_vectorizer.transform(cv_df['TEXT'])\n",
        "#normalizing every feature\n",
        "cv_text_feature_onehotCoding = normalize(cv_text_feature_onehotCoding, axis=0)"
      ],
      "execution_count": 0,
      "outputs": [
        {
          "output_type": "stream",
          "text": [
            "Total number of unique words in train data : 2000\n"
          ],
          "name": "stdout"
        }
      ]
    },
    {
      "cell_type": "code",
      "metadata": {
        "id": "HTvBL0Qpux6c",
        "colab_type": "code",
        "colab": {}
      },
      "source": [
        "### one-hot encoding of Gene feature.\n",
        "gene_vectorizer = TfidfVectorizer(ngram_range=(1,2))\n",
        "train_gene_feature_onehotCoding = gene_vectorizer.fit_transform(train_df['Gene'])\n",
        "test_gene_feature_onehotCoding = gene_vectorizer.transform(test_df['Gene'])\n",
        "cv_gene_feature_onehotCoding = gene_vectorizer.transform(cv_df['Gene'])"
      ],
      "execution_count": 0,
      "outputs": []
    },
    {
      "cell_type": "code",
      "metadata": {
        "id": "xHowaDhlux6i",
        "colab_type": "code",
        "colab": {}
      },
      "source": [
        "# one-hot encoding of variation feature.\n",
        "variation_vectorizer = TfidfVectorizer(ngram_range=(1,2))\n",
        "train_variation_feature_onehotCoding = variation_vectorizer.fit_transform(train_df['Variation'])\n",
        "test_variation_feature_onehotCoding = variation_vectorizer.transform(test_df['Variation'])\n",
        "cv_variation_feature_onehotCoding = variation_vectorizer.transform(cv_df['Variation'])"
      ],
      "execution_count": 0,
      "outputs": []
    },
    {
      "cell_type": "code",
      "metadata": {
        "id": "p9l-h_zkux6p",
        "colab_type": "code",
        "colab": {}
      },
      "source": [
        "# normalizing every feature\n",
        "train_text_feature_onehotCoding = normalize(train_text_feature_onehotCoding, axis=0)\n",
        "\n",
        "# we use the same vectorizer that was trained on train data\n",
        "test_text_feature_onehotCoding = text_vectorizer.transform(test_df['TEXT'])\n",
        "# don't forget to normalize every feature\n",
        "test_text_feature_onehotCoding = normalize(test_text_feature_onehotCoding, axis=0)\n",
        "\n",
        "# we use the same vectorizer that was trained on train data\n",
        "cv_text_feature_onehotCoding = text_vectorizer.transform(cv_df['TEXT'])\n",
        "#normalizing every feature\n",
        "cv_text_feature_onehotCoding = normalize(cv_text_feature_onehotCoding, axis=0)"
      ],
      "execution_count": 0,
      "outputs": []
    },
    {
      "cell_type": "code",
      "metadata": {
        "id": "_NQBV8R7ux6t",
        "colab_type": "code",
        "colab": {}
      },
      "source": [
        "# merging gene, variance and text features\n",
        "train_gene_var_onehotCoding = hstack((train_gene_feature_onehotCoding,train_variation_feature_onehotCoding))\n",
        "test_gene_var_onehotCoding = hstack((test_gene_feature_onehotCoding,test_variation_feature_onehotCoding))\n",
        "cv_gene_var_onehotCoding = hstack((cv_gene_feature_onehotCoding,cv_variation_feature_onehotCoding))\n",
        "\n",
        "train_x_onehotCoding = hstack((train_gene_var_onehotCoding, train_text_feature_onehotCoding)).tocsr()\n",
        "train_y = np.array(list(train_df['Class']))\n",
        "\n",
        "test_x_onehotCoding = hstack((test_gene_var_onehotCoding, test_text_feature_onehotCoding)).tocsr()\n",
        "test_y = np.array(list(test_df['Class']))\n",
        "\n",
        "cv_x_onehotCoding = hstack((cv_gene_var_onehotCoding, cv_text_feature_onehotCoding)).tocsr()\n",
        "cv_y = np.array(list(cv_df['Class']))\n"
      ],
      "execution_count": 0,
      "outputs": []
    },
    {
      "cell_type": "code",
      "metadata": {
        "id": "X-NPQH1Pux6y",
        "colab_type": "code",
        "colab": {}
      },
      "source": [
        "def predict_and_plot_confusion_matrix(train_x, train_y,test_x, test_y, clf):\n",
        "    clf.fit(train_x, train_y)\n",
        "    sig_clf = CalibratedClassifierCV(clf, method=\"sigmoid\")\n",
        "    sig_clf.fit(train_x, train_y)\n",
        "    pred_y = sig_clf.predict(test_x)\n",
        "\n",
        "    # for calculating log_loss we willl provide the array of probabilities belongs to each class\n",
        "    print(\"Log loss :\",log_loss(test_y, sig_clf.predict_proba(test_x)))\n",
        "    # calculating the number of data points that are misclassified\n",
        "    print(\"Number of mis-classified points :\", np.count_nonzero((pred_y- test_y))/test_y.shape[0])\n",
        "    plot_confusion_matrix(test_y, pred_y)"
      ],
      "execution_count": 0,
      "outputs": []
    },
    {
      "cell_type": "code",
      "metadata": {
        "id": "ZJjS_7Hqux62",
        "colab_type": "code",
        "colab": {}
      },
      "source": [
        "def report_log_loss(train_x, train_y, test_x, test_y,  clf):\n",
        "    clf.fit(train_x, train_y)\n",
        "    sig_clf = CalibratedClassifierCV(clf, method=\"sigmoid\")\n",
        "    sig_clf.fit(train_x, train_y)\n",
        "    sig_clf_probs = sig_clf.predict_proba(test_x)\n",
        "    return log_loss(test_y, sig_clf_probs, eps=1e-15)"
      ],
      "execution_count": 0,
      "outputs": []
    },
    {
      "cell_type": "code",
      "metadata": {
        "id": "NuDUdu39ux66",
        "colab_type": "code",
        "colab": {},
        "outputId": "03efa762-eb4c-4a99-93da-6805ceb6a2ae"
      },
      "source": [
        "#hyperparameter tuning\n",
        "alpha = [10 ** x for x in range(-6, 3)]\n",
        "cv_log_error_array = []\n",
        "for i in alpha:\n",
        "    print(\"for alpha =\", i)\n",
        "    clf = SGDClassifier(class_weight='balanced', alpha=i, penalty='l2', loss='log', random_state=42)\n",
        "    clf.fit(train_x_onehotCoding, train_y)\n",
        "    sig_clf = CalibratedClassifierCV(clf, method=\"sigmoid\")\n",
        "    sig_clf.fit(train_x_onehotCoding, train_y)\n",
        "    sig_clf_probs = sig_clf.predict_proba(cv_x_onehotCoding)\n",
        "    cv_log_error_array.append(log_loss(cv_y, sig_clf_probs, labels=clf.classes_, eps=1e-15))\n",
        "    # to avoid rounding error while multiplying probabilites we use log-probability estimates\n",
        "    print(\"Log Loss :\",log_loss(cv_y, sig_clf_probs)) \n",
        "\n",
        "fig, ax = plt.subplots()\n",
        "ax.plot(alpha, cv_log_error_array,c='g')\n",
        "for i, txt in enumerate(np.round(cv_log_error_array,3)):\n",
        "    ax.annotate((alpha[i],str(txt)), (alpha[i],cv_log_error_array[i]))\n",
        "plt.grid()\n",
        "plt.title(\"Cross Validation Error for each alpha\")\n",
        "plt.xlabel(\"Alpha i's\")\n",
        "plt.ylabel(\"Error measure\")\n",
        "plt.show()\n",
        "\n",
        "\n",
        "best_alpha = np.argmin(cv_log_error_array)\n",
        "clf = SGDClassifier(class_weight='balanced', alpha=alpha[best_alpha], penalty='l2', loss='log', random_state=42)\n",
        "clf.fit(train_x_onehotCoding, train_y)\n",
        "sig_clf = CalibratedClassifierCV(clf, method=\"sigmoid\")\n",
        "sig_clf.fit(train_x_onehotCoding, train_y)\n",
        "\n",
        "predict_y = sig_clf.predict_proba(train_x_onehotCoding)\n",
        "print('For values of best alpha = ', alpha[best_alpha], \"The train log loss is:\",log_loss(y_train, predict_y, labels=clf.classes_, eps=1e-15))\n",
        "predict_y = sig_clf.predict_proba(cv_x_onehotCoding)\n",
        "print('For values of best alpha = ', alpha[best_alpha], \"The cross validation log loss is:\",log_loss(y_cv, predict_y, labels=clf.classes_, eps=1e-15))\n",
        "predict_y = sig_clf.predict_proba(test_x_onehotCoding)\n",
        "print('For values of best alpha = ', alpha[best_alpha], \"The test log loss is:\",log_loss(y_test, predict_y, labels=clf.classes_, eps=1e-15))"
      ],
      "execution_count": 0,
      "outputs": [
        {
          "output_type": "stream",
          "text": [
            "for alpha = 1e-06\n",
            "Log Loss : 1.0335229172905518\n",
            "for alpha = 1e-05\n",
            "Log Loss : 1.0018634256599313\n",
            "for alpha = 0.0001\n",
            "Log Loss : 0.9573729736179031\n",
            "for alpha = 0.001\n",
            "Log Loss : 0.9873080998395\n",
            "for alpha = 0.01\n",
            "Log Loss : 1.1471183925794122\n",
            "for alpha = 0.1\n",
            "Log Loss : 1.6472011717647108\n",
            "for alpha = 1\n",
            "Log Loss : 1.7788455276901565\n",
            "for alpha = 10\n",
            "Log Loss : 1.7926202272744378\n",
            "for alpha = 100\n",
            "Log Loss : 1.7941943532596092\n"
          ],
          "name": "stdout"
        },
        {
          "output_type": "display_data",
          "data": {
            "image/png": "[encoded data removed]",
            "text/plain": [
              "<Figure size 432x288 with 1 Axes>"
            ]
          },
          "metadata": {
            "tags": []
          }
        },
        {
          "output_type": "stream",
          "text": [
            "For values of best alpha =  0.0001 The train log loss is: 0.4391548785173384\n",
            "For values of best alpha =  0.0001 The cross validation log loss is: 0.9573729736179031\n",
            "For values of best alpha =  0.0001 The test log loss is: 0.9829755627590934\n"
          ],
          "name": "stdout"
        }
      ]
    }
  ]
}